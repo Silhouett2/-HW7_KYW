{
 "cells": [
  {
   "cell_type": "code",
   "execution_count": 4,
   "metadata": {},
   "outputs": [
    {
     "name": "stdout",
     "output_type": "stream",
     "text": [
      "   unit_price  Amount   total\n",
      "0        30.0    50.0  1500.0\n",
      "1        20.0    30.0   600.0\n"
     ]
    }
   ],
   "source": [
    "import pandas as pd\n",
    "from datetime import datetime\n",
    "\n",
    "account_book = pd.DataFrame(columns=['','unit_price', 'Amount','total'])\n",
    "\n",
    "global n \n",
    "#store1 추가해야대고 unit price, number 넣고 단가 개수 곱한거 넣고 총가격 비싼거 2개 출력까지 \n",
    "\n",
    "def add_entry():\n",
    "    unit_price = float(input(\"Enter a unit_price: \"))\n",
    "    amount = float(input(\"Enter the amount: \"))\n",
    "    total = unit_price * amount\n",
    "    name = \"store\"\n",
    "\n",
    "\n",
    "    account_book.loc[len(account_book)] = [unit_price, amount,total]\n",
    "\n",
    "def display_account_book():\n",
    "    print(account_book)\n",
    "\n",
    "# Example usage\n",
    "add_entry()\n",
    "add_entry()\n",
    "display_account_book()\n"
   ]
  }
 ],
 "metadata": {
  "kernelspec": {
   "display_name": "Python 3",
   "language": "python",
   "name": "python3"
  },
  "language_info": {
   "codemirror_mode": {
    "name": "ipython",
    "version": 3
   },
   "file_extension": ".py",
   "mimetype": "text/x-python",
   "name": "python",
   "nbconvert_exporter": "python",
   "pygments_lexer": "ipython3",
   "version": "3.9.13"
  },
  "orig_nbformat": 4
 },
 "nbformat": 4,
 "nbformat_minor": 2
}
